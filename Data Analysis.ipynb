{
    "cells": [
        {
            "metadata": {
                "collapsed": true
            },
            "cell_type": "markdown",
            "source": "# Data Analysis with Python"
        },
        {
            "metadata": {},
            "cell_type": "code",
            "source": "\nimport types\nimport pandas as pd\nfrom botocore.client import Config\nimport ibm_boto3\n\ndef __iter__(self): return 0\n\n# @hidden_cell\n# The following code accesses a file in your IBM Cloud Object Storage. It includes your credentials.\n# You might want to remove those credentials before you share the notebook.\nclient_8f66dea29381432bb9fc64894ef2f844 = ibm_boto3.client(service_name='s3',\n    ibm_api_key_id='bVWB2KOYS9D9W5mdrrJ199UNtYLF96r0ixg6tKvojpyn',\n    ibm_auth_endpoint=\"https://iam.ng.bluemix.net/oidc/token\",\n    config=Config(signature_version='oauth'),\n    endpoint_url='https://s3-api.us-geo.objectstorage.service.networklayer.com')\n\nbody = client_8f66dea29381432bb9fc64894ef2f844.get_object(Bucket='dataanalysiswithpythonnotebook-donotdelete-pr-ocppivf54ys50i',Key='country_profile_variables.csv')['Body']\n# add missing __iter__ method, so pandas accepts body as file-like object\nif not hasattr(body, \"__iter__\"): body.__iter__ = types.MethodType( __iter__, body )\n\n\n",
            "execution_count": 9,
            "outputs": []
        },
        {
            "metadata": {},
            "cell_type": "code",
            "source": "df_data_1 = pd.read_csv(body)\ndf_data_1.head()",
            "execution_count": 10,
            "outputs": [
                {
                    "output_type": "execute_result",
                    "execution_count": 10,
                    "data": {
                        "text/plain": "          country          Region Surface area (km2)  \\\n0     Afghanistan    SouthernAsia             652864   \n1         Albania  SouthernEurope              28748   \n2         Algeria  NorthernAfrica            2381741   \n3  American Samoa       Polynesia                199   \n4         Andorra  SouthernEurope                468   \n\n   Population in thousands (2017)  Population density (per km2, 2017)  \\\n0                           35530                                54.4   \n1                            2930                               106.9   \n2                           41318                                17.3   \n3                              56                               278.2   \n4                              77                               163.8   \n\n   Sex ratio (m per 100 f, 2017)  \\\n0                          106.3   \n1                          101.9   \n2                          102.0   \n3                          103.6   \n4                          102.3   \n\n   GDP: Gross domestic product (million current US$)  \\\n0                                              20270   \n1                                              11541   \n2                                             164779   \n3                                                -99   \n4                                               2812   \n\n  GDP growth rate (annual %, const. 2005 prices)  \\\n0                                           -2.4   \n1                                            2.6   \n2                                            3.8   \n3                                            -99   \n4                                            0.8   \n\n   GDP per capita (current US$) Economy: Agriculture (% of GVA)  ...  \\\n0                         623.2                            23.3  ...   \n1                        3984.2                            22.4  ...   \n2                        4154.1                            12.2  ...   \n3                         -99.0                             -99  ...   \n4                       39896.4                             0.5  ...   \n\n   Mobile-cellular subscriptions (per 100 inhabitants).1  \\\n0                                                8.3       \n1                                               63.3       \n2                                               38.2       \n3                                                -99       \n4                                               96.9       \n\n   Individuals using the Internet (per 100 inhabitants)  \\\n0                                                 42      \n1                                                130      \n2                                                135      \n3                                                 92      \n4                                                 13      \n\n  Threatened species (number) Forested area (% of land area)  \\\n0                         2.1                        9.8/0.3   \n1                        28.2                        5.7/2.0   \n2                         0.8                      145.4/3.7   \n3                        87.9                            -99   \n4                        34.0                        0.5/6.4   \n\n  CO2 emission estimates (million tons/tons per capita)  \\\n0                                                 63      \n1                                                 84      \n2                                               5900      \n3                                                -99      \n4                                                  1      \n\n  Energy production, primary (Petajoules)  \\\n0                                       5   \n1                                      36   \n2                                      55   \n3                                     -99   \n4                                     119   \n\n  Energy supply per capita (Gigajoules)  \\\n0                             78.2/47.0   \n1                             94.9/95.2   \n2                             84.3/81.8   \n3                           100.0/100.0   \n4                           100.0/100.0   \n\n   Pop. using improved drinking water (urban/rural, %)  \\\n0                                          45.1/27.0     \n1                                          95.5/90.2     \n2                                          89.8/82.2     \n3                                          62.5/62.5     \n4                                        100.0/100.0     \n\n   Pop. using improved sanitation facilities (urban/rural, %)  \\\n0                                              21.43            \n1                                               2.96            \n2                                               0.05            \n3                                                -99            \n4                                                -99            \n\n  Net Official Development Assist. received (% of GNI)  \n0                                                -99    \n1                                                -99    \n2                                                -99    \n3                                                -99    \n4                                                -99    \n\n[5 rows x 50 columns]",
                        "text/html": "<div>\n<style scoped>\n    .dataframe tbody tr th:only-of-type {\n        vertical-align: middle;\n    }\n\n    .dataframe tbody tr th {\n        vertical-align: top;\n    }\n\n    .dataframe thead th {\n        text-align: right;\n    }\n</style>\n<table border=\"1\" class=\"dataframe\">\n  <thead>\n    <tr style=\"text-align: right;\">\n      <th></th>\n      <th>country</th>\n      <th>Region</th>\n      <th>Surface area (km2)</th>\n      <th>Population in thousands (2017)</th>\n      <th>Population density (per km2, 2017)</th>\n      <th>Sex ratio (m per 100 f, 2017)</th>\n      <th>GDP: Gross domestic product (million current US$)</th>\n      <th>GDP growth rate (annual %, const. 2005 prices)</th>\n      <th>GDP per capita (current US$)</th>\n      <th>Economy: Agriculture (% of GVA)</th>\n      <th>...</th>\n      <th>Mobile-cellular subscriptions (per 100 inhabitants).1</th>\n      <th>Individuals using the Internet (per 100 inhabitants)</th>\n      <th>Threatened species (number)</th>\n      <th>Forested area (% of land area)</th>\n      <th>CO2 emission estimates (million tons/tons per capita)</th>\n      <th>Energy production, primary (Petajoules)</th>\n      <th>Energy supply per capita (Gigajoules)</th>\n      <th>Pop. using improved drinking water (urban/rural, %)</th>\n      <th>Pop. using improved sanitation facilities (urban/rural, %)</th>\n      <th>Net Official Development Assist. received (% of GNI)</th>\n    </tr>\n  </thead>\n  <tbody>\n    <tr>\n      <th>0</th>\n      <td>Afghanistan</td>\n      <td>SouthernAsia</td>\n      <td>652864</td>\n      <td>35530</td>\n      <td>54.4</td>\n      <td>106.3</td>\n      <td>20270</td>\n      <td>-2.4</td>\n      <td>623.2</td>\n      <td>23.3</td>\n      <td>...</td>\n      <td>8.3</td>\n      <td>42</td>\n      <td>2.1</td>\n      <td>9.8/0.3</td>\n      <td>63</td>\n      <td>5</td>\n      <td>78.2/47.0</td>\n      <td>45.1/27.0</td>\n      <td>21.43</td>\n      <td>-99</td>\n    </tr>\n    <tr>\n      <th>1</th>\n      <td>Albania</td>\n      <td>SouthernEurope</td>\n      <td>28748</td>\n      <td>2930</td>\n      <td>106.9</td>\n      <td>101.9</td>\n      <td>11541</td>\n      <td>2.6</td>\n      <td>3984.2</td>\n      <td>22.4</td>\n      <td>...</td>\n      <td>63.3</td>\n      <td>130</td>\n      <td>28.2</td>\n      <td>5.7/2.0</td>\n      <td>84</td>\n      <td>36</td>\n      <td>94.9/95.2</td>\n      <td>95.5/90.2</td>\n      <td>2.96</td>\n      <td>-99</td>\n    </tr>\n    <tr>\n      <th>2</th>\n      <td>Algeria</td>\n      <td>NorthernAfrica</td>\n      <td>2381741</td>\n      <td>41318</td>\n      <td>17.3</td>\n      <td>102.0</td>\n      <td>164779</td>\n      <td>3.8</td>\n      <td>4154.1</td>\n      <td>12.2</td>\n      <td>...</td>\n      <td>38.2</td>\n      <td>135</td>\n      <td>0.8</td>\n      <td>145.4/3.7</td>\n      <td>5900</td>\n      <td>55</td>\n      <td>84.3/81.8</td>\n      <td>89.8/82.2</td>\n      <td>0.05</td>\n      <td>-99</td>\n    </tr>\n    <tr>\n      <th>3</th>\n      <td>American Samoa</td>\n      <td>Polynesia</td>\n      <td>199</td>\n      <td>56</td>\n      <td>278.2</td>\n      <td>103.6</td>\n      <td>-99</td>\n      <td>-99</td>\n      <td>-99.0</td>\n      <td>-99</td>\n      <td>...</td>\n      <td>-99</td>\n      <td>92</td>\n      <td>87.9</td>\n      <td>-99</td>\n      <td>-99</td>\n      <td>-99</td>\n      <td>100.0/100.0</td>\n      <td>62.5/62.5</td>\n      <td>-99</td>\n      <td>-99</td>\n    </tr>\n    <tr>\n      <th>4</th>\n      <td>Andorra</td>\n      <td>SouthernEurope</td>\n      <td>468</td>\n      <td>77</td>\n      <td>163.8</td>\n      <td>102.3</td>\n      <td>2812</td>\n      <td>0.8</td>\n      <td>39896.4</td>\n      <td>0.5</td>\n      <td>...</td>\n      <td>96.9</td>\n      <td>13</td>\n      <td>34.0</td>\n      <td>0.5/6.4</td>\n      <td>1</td>\n      <td>119</td>\n      <td>100.0/100.0</td>\n      <td>100.0/100.0</td>\n      <td>-99</td>\n      <td>-99</td>\n    </tr>\n  </tbody>\n</table>\n<p>5 rows \u00d7 50 columns</p>\n</div>"
                    },
                    "metadata": {}
                }
            ]
        },
        {
            "metadata": {},
            "cell_type": "code",
            "source": "#thanks",
            "execution_count": 11,
            "outputs": []
        },
        {
            "metadata": {},
            "cell_type": "code",
            "source": "",
            "execution_count": null,
            "outputs": []
        }
    ],
    "metadata": {
        "kernelspec": {
            "name": "python3",
            "display_name": "Python 3.6",
            "language": "python"
        },
        "language_info": {
            "name": "python",
            "version": "3.6.8",
            "mimetype": "text/x-python",
            "codemirror_mode": {
                "name": "ipython",
                "version": 3
            },
            "pygments_lexer": "ipython3",
            "nbconvert_exporter": "python",
            "file_extension": ".py"
        }
    },
    "nbformat": 4,
    "nbformat_minor": 1
}